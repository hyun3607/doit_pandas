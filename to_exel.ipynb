{
 "cells": [
  {
   "cell_type": "code",
   "execution_count": null,
   "id": "d119be71",
   "metadata": {},
   "outputs": [],
   "source": [
    "writer = pd.ExcelWriter('results/dataframe.xlsx', engine='xlsxwriter')"
   ]
  },
  {
   "cell_type": "code",
   "execution_count": null,
   "id": "08849059",
   "metadata": {},
   "outputs": [],
   "source": [
    "df.to_excel(writer, sheet_name='예제',index=False)"
   ]
  },
  {
   "cell_type": "code",
   "execution_count": null,
   "id": "89cd4136",
   "metadata": {},
   "outputs": [],
   "source": [
    "writer.save()"
   ]
  }
 ],
 "metadata": {
  "kernelspec": {
   "display_name": "Python 3 (ipykernel)",
   "language": "python",
   "name": "python3"
  },
  "language_info": {
   "codemirror_mode": {
    "name": "ipython",
    "version": 3
   },
   "file_extension": ".py",
   "mimetype": "text/x-python",
   "name": "python",
   "nbconvert_exporter": "python",
   "pygments_lexer": "ipython3",
   "version": "3.9.12"
  }
 },
 "nbformat": 4,
 "nbformat_minor": 5
}
