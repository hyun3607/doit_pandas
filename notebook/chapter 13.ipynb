{
 "cells": [
  {
   "cell_type": "markdown",
   "id": "05aa1854",
   "metadata": {},
   "source": [
    "# ch1\n"
   ]
  },
  {
   "cell_type": "markdown",
   "id": "13d70161",
   "metadata": {},
   "source": [
    "# ch 2\n"
   ]
  },
  {
   "cell_type": "markdown",
   "id": "e322e1b6",
   "metadata": {},
   "source": [
    "# ch 3\n",
    "\n",
    "\n"
   ]
  },
  {
   "cell_type": "markdown",
   "id": "63d0054e",
   "metadata": {},
   "source": [
    "\n",
    "# ch 4\n",
    "\n",
    "\n"
   ]
  },
  {
   "cell_type": "markdown",
   "id": "8deee940",
   "metadata": {},
   "source": [
    "## ch 4-1"
   ]
  },
  {
   "cell_type": "code",
   "execution_count": null,
   "id": "58a56b48",
   "metadata": {},
   "outputs": [],
   "source": []
  }
 ],
 "metadata": {
  "kernelspec": {
   "display_name": "Python 3 (ipykernel)",
   "language": "python",
   "name": "python3"
  },
  "language_info": {
   "codemirror_mode": {
    "name": "ipython",
    "version": 3
   },
   "file_extension": ".py",
   "mimetype": "text/x-python",
   "name": "python",
   "nbconvert_exporter": "python",
   "pygments_lexer": "ipython3",
   "version": "3.9.12"
  }
 },
 "nbformat": 4,
 "nbformat_minor": 5
}
