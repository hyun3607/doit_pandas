{
 "cells": [
  {
   "cell_type": "code",
   "execution_count": null,
   "id": "f1a349cf",
   "metadata": {},
   "outputs": [],
   "source": [
    "greenplum = psycopg2.connect(host='ip', port=5432, database='', user='', password='')\n",
    "gp_cursor = greenplum.cursor()"
   ]
  },
  {
   "cell_type": "code",
   "execution_count": null,
   "id": "93e1fdeb",
   "metadata": {},
   "outputs": [],
   "source": [
    "csv_io = io.StringIO()\n",
    "df_companies.to_csv(csv_io, sep=\"\\t\", header=False, index=False)\n",
    "print(csv_io)\n",
    "csv_io.seek(0)"
   ]
  },
  {
   "cell_type": "code",
   "execution_count": null,
   "id": "0d76a667",
   "metadata": {},
   "outputs": [],
   "source": [
    "gp_cursor.execute(f'SET search_path TO 스키마')"
   ]
  },
  {
   "cell_type": "code",
   "execution_count": null,
   "id": "bc91202e",
   "metadata": {},
   "outputs": [],
   "source": [
    "gp_cursor.copy_from(csv_io, '테이블명')\n",
    "greenplum.commit()"
   ]
  },
  {
   "cell_type": "code",
   "execution_count": null,
   "id": "299b33de",
   "metadata": {},
   "outputs": [],
   "source": [
    "gp_cursor.close()\n",
    "greenplum.close()"
   ]
  }
 ],
 "metadata": {
  "kernelspec": {
   "display_name": "Python 3 (ipykernel)",
   "language": "python",
   "name": "python3"
  },
  "language_info": {
   "codemirror_mode": {
    "name": "ipython",
    "version": 3
   },
   "file_extension": ".py",
   "mimetype": "text/x-python",
   "name": "python",
   "nbconvert_exporter": "python",
   "pygments_lexer": "ipython3",
   "version": "3.9.12"
  }
 },
 "nbformat": 4,
 "nbformat_minor": 5
}
