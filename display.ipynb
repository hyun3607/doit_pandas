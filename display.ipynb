{
 "cells": [
  {
   "cell_type": "code",
   "execution_count": null,
   "id": "d5e47459",
   "metadata": {},
   "outputs": [],
   "source": [
    "# 출력할 최대 컬럼 개수를 지정\n",
    "\n",
    "pd.options.display.max_columns"
   ]
  },
  {
   "cell_type": "code",
   "execution_count": null,
   "id": "5fb3a60e",
   "metadata": {},
   "outputs": [],
   "source": [
    "# 출력할 최대 행 개수를 지정\n",
    "\n",
    "pd.options.display.max_rows"
   ]
  },
  {
   "cell_type": "code",
   "execution_count": null,
   "id": "73810dc8",
   "metadata": {},
   "outputs": [],
   "source": [
    "# 출력할 최대 컬럼 너비를 지정\n",
    "\n",
    "pd.options.display.max_colwidth"
   ]
  },
  {
   "cell_type": "code",
   "execution_count": null,
   "id": "4f136bff",
   "metadata": {},
   "outputs": [],
   "source": [
    "# display 옵션 리셋 (default 값으로 변경)\n",
    "\n",
    "pd.reset_option('^display.', silent=True)"
   ]
  },
  {
   "cell_type": "code",
   "execution_count": null,
   "id": "8d377558",
   "metadata": {},
   "outputs": [],
   "source": [
    "display(df['A'].value_counts())\n",
    "# A열의 데이터 갯수 count"
   ]
  }
 ],
 "metadata": {
  "kernelspec": {
   "display_name": "Python 3 (ipykernel)",
   "language": "python",
   "name": "python3"
  },
  "language_info": {
   "codemirror_mode": {
    "name": "ipython",
    "version": 3
   },
   "file_extension": ".py",
   "mimetype": "text/x-python",
   "name": "python",
   "nbconvert_exporter": "python",
   "pygments_lexer": "ipython3",
   "version": "3.9.12"
  }
 },
 "nbformat": 4,
 "nbformat_minor": 5
}
